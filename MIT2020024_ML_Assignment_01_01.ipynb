{
  "nbformat": 4,
  "nbformat_minor": 0,
  "metadata": {
    "colab": {
      "name": "MIT2020024_ML_Assignment_01_01.ipynb",
      "provenance": [],
      "collapsed_sections": [],
      "authorship_tag": "ABX9TyNes2+QuWEEEbzf/bgn/vD3",
      "include_colab_link": true
    },
    "kernelspec": {
      "display_name": "Python 3",
      "name": "python3"
    }
  },
  "cells": [
    {
      "cell_type": "markdown",
      "metadata": {
        "id": "view-in-github",
        "colab_type": "text"
      },
      "source": [
        "<a href=\"https://colab.research.google.com/github/pksj/IIITA_2nd_SEM/blob/main/MIT2020024_ML_Assignment_01_01.ipynb\" target=\"_parent\"><img src=\"https://colab.research.google.com/assets/colab-badge.svg\" alt=\"Open In Colab\"/></a>"
      ]
    },
    {
      "cell_type": "code",
      "metadata": {
        "id": "ht7tkYi2y1fR"
      },
      "source": [
        "import numpy as np\r\n",
        "import math\r\n",
        "\r\n",
        "# just to get mnist dataset\r\n",
        "from keras.datasets import mnist\r\n",
        "\r\n",
        "\r\n",
        "mnist_dataset = mnist.load_data()\r\n",
        "print(len(mnist_dataset[0][0]))\r\n",
        "print(len(mnist_dataset[0][1]))\r\n",
        "print(len(mnist_dataset[1][0]))\r\n",
        "print(len(mnist_dataset[1][1]))"
      ],
      "execution_count": null,
      "outputs": []
    },
    {
      "cell_type": "markdown",
      "metadata": {
        "id": "0O86Wp174Klk"
      },
      "source": [
        "# 1.(a) Implement K-NN and Logistic regression algorithm from scratch and apply it on MNIST data set."
      ]
    },
    {
      "cell_type": "markdown",
      "metadata": {
        "id": "Qn1Tr8qp6maH"
      },
      "source": [
        "Gathering dataset and splitting into training and testing"
      ]
    },
    {
      "cell_type": "code",
      "metadata": {
        "id": "d7L6HJWs34LL"
      },
      "source": [
        "mnist_dataset = mnist.load_data()\r\n",
        "\r\n",
        "\r\n",
        "x_train = mnist_dataset[0][0]\r\n",
        "y_train = mnist_dataset[0][1]\r\n",
        "\r\n",
        "x_test = mnist_dataset[1][0]\r\n",
        "y_test = mnist_dataset[1][1]\r\n",
        "\r\n",
        "\r\n",
        "x_train = x_train[:1000]\r\n",
        "y_train = y_train[:1000]\r\n",
        "\r\n",
        "x_test = x_test[:100]\r\n",
        "y_test = y_test[:100]\r\n"
      ],
      "execution_count": 53,
      "outputs": []
    },
    {
      "cell_type": "markdown",
      "metadata": {
        "id": "xHPmv4sF60_N"
      },
      "source": [
        "Funciton to find distance between two images"
      ]
    },
    {
      "cell_type": "code",
      "metadata": {
        "id": "eMNvNTEq66s4"
      },
      "source": [
        "def image_distance(image_1, image_2):\r\n",
        "\r\n",
        "    image_shape = image_1.shape\r\n",
        "\r\n",
        "    distance_square = 0.\r\n",
        "\r\n",
        "    for row in range(image_shape[0]):\r\n",
        "        for column in range(image_shape[1]):\r\n",
        "\r\n",
        "            distance_square += (int(image_1[row][column]) - int(image_2[row][column]))**2\r\n",
        "\r\n",
        "    return math.sqrt(distance_square)  \r\n",
        "\r\n"
      ],
      "execution_count": 38,
      "outputs": []
    },
    {
      "cell_type": "markdown",
      "metadata": {
        "id": "uHHQyGLy3gJy"
      },
      "source": [
        "Function max_label\r\n",
        "\r\n",
        "used to find lable with maximum count "
      ]
    },
    {
      "cell_type": "code",
      "metadata": {
        "id": "geGbhEFK3t7Y"
      },
      "source": [
        "def max_label(labels):\r\n",
        "\r\n",
        "    frequency = [0] * 10\r\n",
        "\r\n",
        "    for label in labels:\r\n",
        "        frequency[label] += 1\r\n",
        "\r\n",
        "    max_index = 0\r\n",
        "\r\n",
        "    for i in range(1, 10):\r\n",
        "\r\n",
        "        if(frequency[i] > frequency[max_index]):\r\n",
        "\r\n",
        "            max_index = i\r\n",
        "\r\n",
        "    return max_index                \r\n"
      ],
      "execution_count": 39,
      "outputs": []
    },
    {
      "cell_type": "markdown",
      "metadata": {
        "id": "RpYvKv-C44tI"
      },
      "source": [
        "Function KNN_prediction"
      ]
    },
    {
      "cell_type": "code",
      "metadata": {
        "id": "RzIhgCUN5B7D"
      },
      "source": [
        "def KNN_prediction(k, x_train, y_train, test_image):\r\n",
        "\r\n",
        "    distance_with_labels = []\r\n",
        "\r\n",
        "    for image, label in zip(x_train, y_train):\r\n",
        "\r\n",
        "        ans = image_distance(image, test_image) , label\r\n",
        "        #print(ans)\r\n",
        "        distance_with_labels.append(ans)\r\n",
        "\r\n",
        "    distance_with_labels.sort(key=lambda x:x[0])\r\n",
        "\r\n",
        "    # sorted_distance_with_labels = sorted(distance_with_labels, key=lambda (distance, _): distance)    sorted(distance_with_labels)\r\n",
        "    #print(distance_with_labels)\r\n",
        "    k_neighbors = [label for image, label in distance_with_labels[0:k]]\r\n",
        "\r\n",
        "    return max_label(k_neighbors)\r\n",
        "\r\n"
      ],
      "execution_count": 56,
      "outputs": []
    },
    {
      "cell_type": "markdown",
      "metadata": {
        "id": "mQ3CogEn8zzW"
      },
      "source": [
        "Prediction on test data"
      ]
    },
    {
      "cell_type": "code",
      "metadata": {
        "colab": {
          "base_uri": "https://localhost:8080/"
        },
        "id": "YcanRc4J83T8",
        "outputId": "c10137bc-9e2f-4ded-a5fe-918978073d8d"
      },
      "source": [
        "correct_prediction = 0\r\n",
        "c = 0\r\n",
        "\r\n",
        "for image, label in zip(x_test, y_test):\r\n",
        "\r\n",
        "    print(c)\r\n",
        "    c += 1\r\n",
        "\r\n",
        "    if(KNN_prediction(10, x_train, y_train, image) == label):\r\n",
        "\r\n",
        "        correct_prediction += 1\r\n",
        "\r\n",
        "print(\"Accuracy = \", correct_prediction * 100 / len(x_test))        "
      ],
      "execution_count": 57,
      "outputs": [
        {
          "output_type": "stream",
          "text": [
            "0\n",
            "1\n",
            "2\n",
            "3\n",
            "4\n",
            "5\n",
            "6\n",
            "7\n",
            "8\n",
            "9\n",
            "10\n",
            "11\n",
            "12\n",
            "13\n",
            "14\n",
            "15\n",
            "16\n",
            "17\n",
            "18\n",
            "19\n",
            "20\n",
            "21\n",
            "22\n",
            "23\n",
            "24\n",
            "25\n",
            "26\n",
            "27\n",
            "28\n",
            "29\n",
            "30\n",
            "31\n",
            "32\n",
            "33\n",
            "34\n",
            "35\n",
            "36\n",
            "37\n",
            "38\n",
            "39\n",
            "40\n",
            "41\n",
            "42\n",
            "43\n",
            "44\n",
            "45\n",
            "46\n",
            "47\n",
            "48\n",
            "49\n",
            "50\n",
            "51\n",
            "52\n",
            "53\n",
            "54\n",
            "55\n",
            "56\n",
            "57\n",
            "58\n",
            "59\n",
            "60\n",
            "61\n",
            "62\n",
            "63\n",
            "64\n",
            "65\n",
            "66\n",
            "67\n",
            "68\n",
            "69\n",
            "70\n",
            "71\n",
            "72\n",
            "73\n",
            "74\n",
            "75\n",
            "76\n",
            "77\n",
            "78\n",
            "79\n",
            "80\n",
            "81\n",
            "82\n",
            "83\n",
            "84\n",
            "85\n",
            "86\n",
            "87\n",
            "88\n",
            "89\n",
            "90\n",
            "91\n",
            "92\n",
            "93\n",
            "94\n",
            "95\n",
            "96\n",
            "97\n",
            "98\n",
            "99\n",
            "Accuracy =  84.0\n"
          ],
          "name": "stdout"
        }
      ]
    }
  ]
}