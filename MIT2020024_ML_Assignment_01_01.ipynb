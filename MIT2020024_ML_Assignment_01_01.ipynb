{
  "nbformat": 4,
  "nbformat_minor": 0,
  "metadata": {
    "colab": {
      "name": "MIT2020024_ML_Assignment_01_01.ipynb",
      "provenance": [],
      "collapsed_sections": [
        "0O86Wp174Klk"
      ],
      "authorship_tag": "ABX9TyMq/qe+krj84s0wCklYZ++L",
      "include_colab_link": true
    },
    "kernelspec": {
      "display_name": "Python 3",
      "name": "python3"
    }
  },
  "cells": [
    {
      "cell_type": "markdown",
      "metadata": {
        "id": "view-in-github",
        "colab_type": "text"
      },
      "source": [
        "<a href=\"https://colab.research.google.com/github/pksj/IIITA_2nd_SEM/blob/main/MIT2020024_ML_Assignment_01_01.ipynb\" target=\"_parent\"><img src=\"https://colab.research.google.com/assets/colab-badge.svg\" alt=\"Open In Colab\"/></a>"
      ]
    },
    {
      "cell_type": "markdown",
      "metadata": {
        "id": "mfwVA1BRoICf"
      },
      "source": [
        "#Implement K-NN and Logistic regression algorithm from scratch and apply it on MNIST data set."
      ]
    },
    {
      "cell_type": "code",
      "metadata": {
        "id": "ht7tkYi2y1fR"
      },
      "source": [
        "import numpy as np\r\n",
        "import math\r\n",
        "\r\n",
        "# just to get mnist dataset\r\n",
        "from keras.datasets import mnist\r\n"
      ],
      "execution_count": null,
      "outputs": []
    },
    {
      "cell_type": "markdown",
      "metadata": {
        "id": "0O86Wp174Klk"
      },
      "source": [
        "#K-NN algorithm"
      ]
    },
    {
      "cell_type": "markdown",
      "metadata": {
        "id": "2cJHFGQpnrfH"
      },
      "source": [
        "Data Preprocessing"
      ]
    },
    {
      "cell_type": "code",
      "metadata": {
        "id": "d7L6HJWs34LL"
      },
      "source": [
        "mnist_dataset = mnist.load_data()\r\n",
        "\r\n",
        "\r\n",
        "x_train = mnist_dataset[0][0]\r\n",
        "y_train = mnist_dataset[0][1]\r\n",
        "\r\n",
        "x_test = mnist_dataset[1][0]\r\n",
        "y_test = mnist_dataset[1][1]\r\n",
        "\r\n",
        "#Normalization\r\n",
        "\r\n",
        "x_train = x_train / 255\r\n",
        "y_train = y_train / 9\r\n",
        "\r\n",
        "x_test = x_test / 255\r\n",
        "y_test = y_test / 9\r\n",
        "\r\n",
        "x_train = x_train[:10000]\r\n",
        "y_train = y_train[:10000]\r\n",
        "\r\n",
        "x_test = x_test[:1000]\r\n",
        "y_test = y_test[:1000]\r\n"
      ],
      "execution_count": null,
      "outputs": []
    },
    {
      "cell_type": "markdown",
      "metadata": {
        "id": "xHPmv4sF60_N"
      },
      "source": [
        "Funciton to find distance between two images"
      ]
    },
    {
      "cell_type": "code",
      "metadata": {
        "id": "eMNvNTEq66s4"
      },
      "source": [
        "def image_distance(image_1, image_2):\r\n",
        "\r\n",
        "    image_shape = image_1.shape\r\n",
        "\r\n",
        "    distance_square = 0.\r\n",
        "\r\n",
        "    for row in range(image_shape[0]):\r\n",
        "        for column in range(image_shape[1]):\r\n",
        "\r\n",
        "            distance_square += (image_1[row][column] - image_2[row][column])**2\r\n",
        "\r\n",
        "    return math.sqrt(distance_square)  \r\n",
        "\r\n"
      ],
      "execution_count": null,
      "outputs": []
    },
    {
      "cell_type": "markdown",
      "metadata": {
        "id": "uHHQyGLy3gJy"
      },
      "source": [
        "Function max_label\r\n",
        "\r\n",
        "used to find lable with maximum count "
      ]
    },
    {
      "cell_type": "code",
      "metadata": {
        "id": "geGbhEFK3t7Y"
      },
      "source": [
        "def max_label(labels):\r\n",
        "\r\n",
        "    frequency = [0] * 10\r\n",
        "    \r\n",
        "    for label in labels:\r\n",
        "        index = int(label * 9 )\r\n",
        "        frequency[index] += 1\r\n",
        "\r\n",
        "    max_index = 0\r\n",
        "\r\n",
        "    for i in range(1, 10):\r\n",
        "\r\n",
        "        if(frequency[i] > frequency[max_index]):\r\n",
        "\r\n",
        "            max_index = i\r\n",
        "\r\n",
        "    return max_index / 9   # divid by 9 to make label in normalized range [0/9, 9/9]            \r\n"
      ],
      "execution_count": null,
      "outputs": []
    },
    {
      "cell_type": "markdown",
      "metadata": {
        "id": "RpYvKv-C44tI"
      },
      "source": [
        "Function KNN_prediction"
      ]
    },
    {
      "cell_type": "code",
      "metadata": {
        "id": "RzIhgCUN5B7D"
      },
      "source": [
        "def KNN_prediction(k, x_train, y_train, test_image):\r\n",
        "\r\n",
        "    distance_with_labels = []\r\n",
        "\r\n",
        "    for image, label in zip(x_train, y_train):\r\n",
        "\r\n",
        "        ans = image_distance(image, test_image) , label\r\n",
        "        #print(ans)\r\n",
        "        distance_with_labels.append(ans)\r\n",
        "\r\n",
        "    distance_with_labels.sort(key=lambda x:x[0])\r\n",
        "\r\n",
        "    k_neighbors = [label for image, label in distance_with_labels[0:k]]\r\n",
        "\r\n",
        "    return max_label(k_neighbors)\r\n",
        "\r\n"
      ],
      "execution_count": null,
      "outputs": []
    },
    {
      "cell_type": "markdown",
      "metadata": {
        "id": "mQ3CogEn8zzW"
      },
      "source": [
        "Prediction on test data"
      ]
    },
    {
      "cell_type": "code",
      "metadata": {
        "id": "YcanRc4J83T8"
      },
      "source": [
        "correct_prediction = 0\r\n",
        "c = 0\r\n",
        "\r\n",
        "for image, label in zip(x_test, y_test):\r\n",
        "\r\n",
        "    print(c)\r\n",
        "    c += 1\r\n",
        "\r\n",
        "    if(KNN_prediction(10, x_train, y_train, image) == label):\r\n",
        "\r\n",
        "\r\n",
        "        correct_prediction += 1\r\n",
        "\r\n",
        "print(\"Accuracy = \", correct_prediction * 100 / len(x_test))        "
      ],
      "execution_count": null,
      "outputs": []
    },
    {
      "cell_type": "markdown",
      "metadata": {
        "id": "DSow9KFcq6_7"
      },
      "source": [
        "#Logistic regression algorithm"
      ]
    },
    {
      "cell_type": "markdown",
      "metadata": {
        "id": "vSdC9pLqqnOv"
      },
      "source": [
        "**Data Preprocessing**"
      ]
    },
    {
      "cell_type": "code",
      "metadata": {
        "id": "9CMTicdJqlYf"
      },
      "source": [
        "mnist_dataset = mnist.load_data()\r\n",
        "\r\n",
        "\r\n",
        "x_train = mnist_dataset[0][0]\r\n",
        "y_train = mnist_dataset[0][1]\r\n",
        "\r\n",
        "x_test = mnist_dataset[1][0]\r\n",
        "y_test = mnist_dataset[1][1]\r\n",
        "\r\n",
        "x_train = x_train / 255\r\n",
        "\r\n",
        "x_test = x_test / 255\r\n",
        "\r\n",
        "x_train = x_train\r\n",
        "y_train = y_train\r\n",
        "\r\n",
        "x_test = x_test\r\n",
        "y_test = y_test\r\n",
        "\r\n",
        "\r\n",
        "y_train_all_digits = np.array([y_train] * 10)\r\n",
        "y_test_all_digits = np.array([y_test] * 10)\r\n",
        "\r\n",
        "\r\n",
        "\r\n",
        "for i in range(10):\r\n",
        "    y_train_all_digits[i] = np.array([ 1 if y == i else 0 for y in y_train_all_digits[i]]) \r\n",
        "    y_test_all_digits[i] = [ 1  if y == i else 0 for y in y_test_all_digits[i]]\r\n",
        "\r\n"
      ],
      "execution_count": null,
      "outputs": []
    },
    {
      "cell_type": "code",
      "metadata": {
        "id": "t1Uru5md0EDs"
      },
      "source": [
        "# flattening images\r\n",
        "\r\n",
        "x_train = np.array([np.array(image).ravel() for image in x_train])\r\n",
        "\r\n",
        "x_test = np.array([np.array(image).ravel() for image in x_test])\r\n",
        "\r\n",
        "\r\n",
        "learning_rate = 0.01\r\n",
        "iterations = 100\r\n",
        "\r\n",
        "theta_for_all_digits = [ [0] * len(x_train[0]) for x in range(10)]\r\n"
      ],
      "execution_count": null,
      "outputs": []
    },
    {
      "cell_type": "markdown",
      "metadata": {
        "id": "bvAEcYooNmJ6"
      },
      "source": [
        "**Hypothesis Function**"
      ]
    },
    {
      "cell_type": "code",
      "metadata": {
        "id": "Z6Nbwh65LCTT"
      },
      "source": [
        "def hypothesis(x_data, theta):\r\n",
        "\r\n",
        "    z = np.dot(x_data, theta)\r\n",
        "    \r\n",
        "    return 1.0  / ( 1.0 +  np.exp(-z))\r\n"
      ],
      "execution_count": null,
      "outputs": []
    },
    {
      "cell_type": "markdown",
      "metadata": {
        "id": "ikCoGEn1Ng6P"
      },
      "source": [
        "**Cost Function**"
      ]
    },
    {
      "cell_type": "code",
      "metadata": {
        "id": "JiS0Op54Jvll"
      },
      "source": [
        "def cost_function(x_data, y_data, theta):\r\n",
        "\r\n",
        "    cost = 0.0\r\n",
        "\r\n",
        "    for x , y in zip(x_data, y_data):\r\n",
        "\r\n",
        "        h = hypothesis(x,theta)\r\n",
        "\r\n",
        "        cost += (- y) * (np.log(h)) - (1 - y ) * (np.log(1- h))\r\n",
        "    \r\n",
        "    cost = cost / len(x_data)\r\n",
        "\r\n",
        "    return cost"
      ],
      "execution_count": null,
      "outputs": []
    },
    {
      "cell_type": "markdown",
      "metadata": {
        "id": "z35z2PzSygNu"
      },
      "source": [
        "**Train function**"
      ]
    },
    {
      "cell_type": "code",
      "metadata": {
        "id": "5lf3Rb4qzrPx"
      },
      "source": [
        "def train(iterations, learning_rate, x_data, y_data, theta):\r\n",
        "\r\n",
        "    cost_history = []\r\n",
        "    m = len(x_data)\r\n",
        "    \r\n",
        "    for i in range(iterations):\r\n",
        "        \r\n",
        "        h = hypothesis(x_data, theta)\r\n",
        "        \r\n",
        "        dj_by_dw = ( 1 / m ) * np.dot(h - y_data,x_data)\r\n",
        "        \r\n",
        "        theta = theta - dj_by_dw * learning_rate\r\n",
        "        \r\n",
        "        cost_history.append(cost_function(x_data, y_data, theta))\r\n",
        "\r\n",
        "    return theta, cost_history"
      ],
      "execution_count": null,
      "outputs": []
    },
    {
      "cell_type": "markdown",
      "metadata": {
        "id": "ZdU6NDxiyazF"
      },
      "source": [
        "**Determining theta values**"
      ]
    },
    {
      "cell_type": "code",
      "metadata": {
        "id": "7e6v4s3XyQxt"
      },
      "source": [
        "cost_history_for_all_digits = [0] * 10\r\n",
        "\r\n",
        "for i in range(10):\r\n",
        "    theta_for_all_digits[i], cost_history_for_all_digits[i] = train (iterations, learning_rate, x_train, y_train_all_digits[i], theta_for_all_digits[i])\r\n"
      ],
      "execution_count": null,
      "outputs": []
    },
    {
      "cell_type": "markdown",
      "metadata": {
        "id": "vA3H6A14yVNN"
      },
      "source": [
        "**Predictions**"
      ]
    },
    {
      "cell_type": "code",
      "metadata": {
        "id": "RitAD2KXyTRU"
      },
      "source": [
        "correct_prediction = 0;\r\n",
        "\r\n",
        "y_test_all_digits = np.matrix.transpose(y_test_all_digits)\r\n",
        "\r\n",
        "for image, y in zip(x_test, y_test_all_digits):\r\n",
        "\r\n",
        "    j += 1\r\n",
        "\r\n",
        "    probabilities = [0] * 10\r\n",
        "\r\n",
        "    for i in range(10):        \r\n",
        "        probabilities[i] = hypothesis(image, theta_for_all_digits[i])\r\n",
        "\r\n",
        "    prediction = probabilities.index(max(probabilities))\r\n",
        "    y_argmax = np.argmax(y)\r\n",
        "    \r\n",
        "    if (prediction == y_argmax):\r\n",
        "\r\n",
        "        correct_prediction += 1\r\n",
        "\r\n",
        "\r\n",
        "print(\"accuracy = \" , correct_prediction * 100 / len(x_test))\r\n"
      ],
      "execution_count": null,
      "outputs": []
    }
  ]
}