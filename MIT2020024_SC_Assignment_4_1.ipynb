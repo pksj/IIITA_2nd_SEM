{
  "nbformat": 4,
  "nbformat_minor": 0,
  "metadata": {
    "colab": {
      "name": "MIT2020024_SC_Assignment_4_1.ipynb",
      "provenance": [],
      "collapsed_sections": [],
      "authorship_tag": "ABX9TyOMBIm2f1QNddiYdMIP1iy2",
      "include_colab_link": true
    },
    "kernelspec": {
      "name": "python3",
      "display_name": "Python 3"
    }
  },
  "cells": [
    {
      "cell_type": "markdown",
      "metadata": {
        "id": "view-in-github",
        "colab_type": "text"
      },
      "source": [
        "<a href=\"https://colab.research.google.com/github/pksj/IIITA_2nd_SEM/blob/main/MIT2020024_SC_Assignment_4_1.ipynb\" target=\"_parent\"><img src=\"https://colab.research.google.com/assets/colab-badge.svg\" alt=\"Open In Colab\"/></a>"
      ]
    },
    {
      "cell_type": "code",
      "metadata": {
        "id": "C5o2kupwzJiG",
        "colab": {
          "base_uri": "https://localhost:8080/",
          "height": 1000
        },
        "outputId": "a0f621b2-0302-4618-fb34-88daa6e9b3c0"
      },
      "source": [
        "import numpy as np\r\n",
        "import matplotlib.pyplot as plt\r\n",
        "\r\n",
        "\r\n",
        "\r\n",
        "chip_data =  np.genfromtxt('/content/Data-set-for-microchip-quality-Assurance-2019.csv',delimiter=',')\r\n",
        "\r\n",
        "\r\n",
        "#Adding new features \r\n",
        "chip_data = np.array([(sample[0], sample[1], sample[0]**2, sample[1]**2, sample[0]*sample[1], sample[2]) for sample in chip_data])\r\n",
        "\r\n",
        "\r\n",
        "#shuffling of data\r\n",
        "np.random.shuffle(chip_data)\r\n",
        "\r\n",
        "m= int(len(chip_data) * 0.7)\r\n",
        "\r\n",
        "#data spiliting\r\n",
        "\r\n",
        "x_train = chip_data[:m,:-1]\r\n",
        "y_train = chip_data[:m,-1:]\r\n",
        "x_test = chip_data[m:,:-1]\r\n",
        "y_test = chip_data[m:,-1:]\r\n",
        "\r\n",
        "\r\n",
        "plt.hist(chip_data[:,0:1], bins = 50)\r\n",
        "plt.show()\r\n",
        "\r\n",
        "plt.hist(chip_data[:,1:2], bins = 50)\r\n",
        "plt.show()\r\n",
        "\r\n",
        "plt.hist(chip_data[:,2:3], bins = 50)\r\n",
        "plt.show()\r\n",
        "\r\n",
        "plt.hist(chip_data[:,3:4], bins = 50)\r\n",
        "plt.show()\r\n",
        "\r\n",
        "plt.hist(chip_data[:,4:5], bins = 50)\r\n",
        "plt.show()"
      ],
      "execution_count": null,
      "outputs": [
        {
          "output_type": "display_data",
          "data": {
            "image/png": "[encoded data removed]",
            "text/plain": [
              "<Figure size 432x288 with 1 Axes>"
            ]
          },
          "metadata": {
            "tags": [],
            "needs_background": "light"
          }
        },
        {
          "output_type": "display_data",
          "data": {
            "image/png": "[encoded data removed]",
            "text/plain": [
              "<Figure size 432x288 with 1 Axes>"
            ]
          },
          "metadata": {
            "tags": [],
            "needs_background": "light"
          }
        },
        {
          "output_type": "display_data",
          "data": {
            "image/png": "[encoded data removed]",
            "text/plain": [
              "<Figure size 432x288 with 1 Axes>"
            ]
          },
          "metadata": {
            "tags": [],
            "needs_background": "light"
          }
        },
        {
          "output_type": "display_data",
          "data": {
            "image/png": "[encoded data removed]",
            "text/plain": [
              "<Figure size 432x288 with 1 Axes>"
            ]
          },
          "metadata": {
            "tags": [],
            "needs_background": "light"
          }
        },
        {
          "output_type": "display_data",
          "data": {
            "image/png": "[encoded data removed]",
            "text/plain": [
              "<Figure size 432x288 with 1 Axes>"
            ]
          },
          "metadata": {
            "tags": [],
            "needs_background": "light"
          }
        }
      ]
    },
    {
      "cell_type": "code",
      "metadata": {
        "id": "EaIJPwhElpGZ",
        "colab": {
          "base_uri": "https://localhost:8080/"
        },
        "outputId": "5c3b75ec-7643-4fd3-bebe-eef9d8960bad"
      },
      "source": [
        "phi = y_train.mean()\r\n",
        "# print(phi)\r\n",
        "\r\n",
        "def mu_0(x_train, y_train):\r\n",
        "\r\n",
        "    m = len(x_train)\r\n",
        "\r\n",
        "    numerator =  [x for x,y in zip(x_train, y_train) if y == 0 ]\r\n",
        "\r\n",
        "    denominator = len(numerator)\r\n",
        "\r\n",
        "    numerator = np.sum(numerator,axis = 0)\r\n",
        "   \r\n",
        "    return (numerator / denominator)\r\n",
        "\r\n",
        "\r\n",
        "mu_0 = mu_0(x_train, y_train)\r\n",
        "# print(mu_0)\r\n",
        "\r\n",
        "\r\n",
        "\r\n",
        "def mu_1(x_train, y_train):\r\n",
        "\r\n",
        "    m = len(x_train)\r\n",
        "\r\n",
        "    numerator =  [x for x,y in zip(x_train, y_train) if y == 1 ]\r\n",
        "\r\n",
        "    denominator = len(numerator)\r\n",
        "\r\n",
        "    numerator = np.sum(numerator,axis = 0)\r\n",
        "\r\n",
        "    return  (numerator / denominator)\r\n",
        "\r\n",
        "\r\n",
        "mu_1 = mu_1(x_train, y_train)\r\n",
        "print(mu_1)\r\n",
        "\r\n",
        "\r\n",
        "def sigma(x_train, y_train, mu_0, mu_1):\r\n",
        "\r\n",
        "    m = len(x_train)\r\n",
        "    n = len(x_train[0])\r\n",
        "   \r\n",
        "    sigma_sum = []\r\n",
        "\r\n",
        "    for x, y in zip(x_train, y_train):\r\n",
        "\r\n",
        "        temp = []\r\n",
        "\r\n",
        "        if( y == 0):\r\n",
        "\r\n",
        "            temp = (x - mu_0).reshape(n,1)\r\n",
        "            temp = np.matmul(temp, temp.T)\r\n",
        "\r\n",
        "        else:\r\n",
        "\r\n",
        "            temp = (x - mu_1).reshape(n,1)\r\n",
        "            temp = np.matmul(temp, temp.T)\r\n",
        "\r\n",
        "        sigma_sum.append(temp)\r\n",
        "\r\n",
        "    sigma_sum = sum(np.array(sigma_sum))\r\n",
        "    \r\n",
        "    return (1 / m) * (sigma_sum)\r\n",
        "\r\n",
        "sigma = sigma(x_train, y_train, mu_0, mu_1)\r\n",
        "\r\n",
        "# print(sigma)\r\n",
        "\r\n"
      ],
      "execution_count": null,
      "outputs": [
        {
          "output_type": "stream",
          "text": [
            "[ 0.00106921  0.18873502  0.14040628  0.23674338 -0.05763305]\n"
          ],
          "name": "stdout"
        }
      ]
    },
    {
      "cell_type": "code",
      "metadata": {
        "colab": {
          "base_uri": "https://localhost:8080/"
        },
        "id": "0nXaLr7g4Rei",
        "outputId": "d8c5af75-ea24-49a2-bd2b-e8aec4eba868"
      },
      "source": [
        "def GDA(x_data, mu, sigma):\r\n",
        "       \r\n",
        "        n = sigma.shape[0]\r\n",
        "        \r\n",
        "        sigma_determinant = np.linalg.det(sigma)\r\n",
        "        # print(sigma_determinant.shape)\r\n",
        "        sigma_inverse = np.linalg.inv(sigma)\r\n",
        "        # print(sigma_inverse.shape)\r\n",
        "\r\n",
        "        x_minus_mu = (x_data - mu)\r\n",
        "        x_minus_mu = x_minus_mu.reshape(*(x_minus_mu.shape), 1)\r\n",
        "        # print(x_minus_mu.shape)\r\n",
        "\r\n",
        "        t1 =  np.matmul(x_minus_mu.T,sigma_inverse)\r\n",
        "        # print(\"t1 =\" ,t1.shape)\r\n",
        "        t2 = np.matmul(t1,x_minus_mu)\r\n",
        "        # print(\"t2 =\" ,t2.shape)\r\n",
        "\r\n",
        "        temp2 = np.exp(-0.5 * t2)\r\n",
        "        temp1 = (((2 * np.pi) ** (n/2)) * ((np.abs(sigma_determinant))**0.5))\r\n",
        "        # print(temp1)\r\n",
        "        # print(temp2)\r\n",
        "        # Probability Density\r\n",
        "        p = (1.0 / temp1) * temp2\r\n",
        "        p = np.squeeze(p)\r\n",
        "        # print(p)        \r\n",
        "\r\n",
        "        return p\r\n",
        "\r\n",
        "\r\n",
        "predicted = []\r\n",
        "\r\n",
        "\r\n",
        "for x ,y in zip( x_test, y_test):\r\n",
        "\r\n",
        "    n = GDA(x, mu_0, sigma) \r\n",
        "    p = GDA(x, mu_1, sigma) \r\n",
        "\r\n",
        "    if(p >= n):\r\n",
        "        predicted.append(1)\r\n",
        "    else:\r\n",
        "        predicted.append(0)\r\n",
        "\r\n",
        "print(\"Accuracy = \",*sum([ x == y for x,y in zip(y_test,predicted)]) / len(y_test) * 100,\"%\")        \r\n",
        "\r\n"
      ],
      "execution_count": null,
      "outputs": [
        {
          "output_type": "stream",
          "text": [
            "Accuracy =  75.0 %\n"
          ],
          "name": "stdout"
        }
      ]
    }
  ]
}