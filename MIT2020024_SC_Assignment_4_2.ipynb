{
  "nbformat": 4,
  "nbformat_minor": 0,
  "metadata": {
    "colab": {
      "name": "MIT2020024_SC_Assignment_4_2.ipynb",
      "provenance": [],
      "collapsed_sections": [],
      "authorship_tag": "ABX9TyM+XxTnQRl0+l2U8Rs9lOg2",
      "include_colab_link": true
    },
    "kernelspec": {
      "name": "python3",
      "display_name": "Python 3"
    }
  },
  "cells": [
    {
      "cell_type": "markdown",
      "metadata": {
        "id": "view-in-github",
        "colab_type": "text"
      },
      "source": [
        "<a href=\"https://colab.research.google.com/github/pksj/IIITA_2nd_SEM/blob/main/MIT2020024_SC_Assignment_4_2.ipynb\" target=\"_parent\"><img src=\"https://colab.research.google.com/assets/colab-badge.svg\" alt=\"Open In Colab\"/></a>"
      ]
    },
    {
      "cell_type": "code",
      "metadata": {
        "id": "C5o2kupwzJiG"
      },
      "source": [
        "import numpy as np\r\n",
        "import matplotlib.pyplot as plt\r\n",
        "np.set_printoptions(suppress=True)\r\n",
        "\r\n",
        "\r\n",
        "\r\n",
        "chip_data =  np.genfromtxt('/content/Data-set-for-microchip-quality-Assurance-2019.csv',delimiter=',')\r\n",
        "\r\n",
        "\r\n",
        "#Adding new features \r\n",
        "chip_data = np.array([(sample[0], sample[1], sample[0]**2, sample[1]**2, sample[0]*sample[1], sample[2]) for sample in chip_data])\r\n",
        "\r\n",
        "\r\n",
        "m= int(len(chip_data) * 0.7)   # train size\r\n"
      ],
      "execution_count": 432,
      "outputs": []
    },
    {
      "cell_type": "code",
      "metadata": {
        "colab": {
          "base_uri": "https://localhost:8080/",
          "height": 1000
        },
        "id": "KF_B6VrTn5uN",
        "outputId": "7ae6f3b9-867a-4f79-a5e6-c55ad8cdb4c6"
      },
      "source": [
        "#Transforming from Uniform to Gaussian Distribution\r\n",
        "def box_muler_transformation(x,y):\r\n",
        "\r\n",
        "    x = (x - x.min()) / (x.max()-x.min())\r\n",
        "    x = np.where(x == 0.0, 1e-15, x)\r\n",
        "    # print(\"x = \",x)\r\n",
        "\r\n",
        "    y = (y - y.min()) / (y.max()-y.min())\r\n",
        "    y = np.where(y == 0.0, 1e-15, y)\r\n",
        "    \r\n",
        "    \r\n",
        "    U1_log_value = -np.log(x)\r\n",
        "    Theta_value= 2 * np.pi * y\r\n",
        "\r\n",
        "    R_from_U1_log_value = np.sqrt(2 * U1_log_value)\r\n",
        "    Z_0 = R_from_U1_log_value * np.cos(Theta_value) \r\n",
        "    Z_1 = R_from_U1_log_value * np.sin(Theta_value)\r\n",
        "\r\n",
        "    # print(\"Z_0 = \",Z_0)\r\n",
        "    # print(\"Z_1 = \",Z_1)\r\n",
        "    \r\n",
        "\r\n",
        "    return Z_0, Z_1\r\n",
        "\r\n",
        "\r\n",
        "transformed_data = chip_data.copy()\r\n",
        "\r\n",
        "chip_data[:,0:1], chip_data[:,1:2] = box_muler_transformation(transformed_data[:,0:1],transformed_data[:,1:2])\r\n",
        "chip_data[:,2:3], chip_data[:,3:4] = box_muler_transformation(transformed_data[:,2:3],transformed_data[:,3:4])\r\n",
        "chip_data[:,0:1], chip_data[:,4:5] = box_muler_transformation(transformed_data[:,0:1],transformed_data[:,4:5])\r\n",
        "\r\n",
        "\r\n",
        "# print(\"chip_data[:,0:1]=\",(chip_data))\r\n",
        "\r\n",
        "\r\n",
        "print(\"\\nGaussian Distributions\\n\")\r\n",
        "\r\n",
        "plt.hist(chip_data[:,0:1], bins = 50)\r\n",
        "plt.show()\r\n",
        "\r\n",
        "plt.hist(chip_data[:,1:2], bins = 50)\r\n",
        "plt.show()\r\n",
        "\r\n",
        "plt.hist(chip_data[:,2:3], bins = 50)\r\n",
        "plt.show()\r\n",
        "\r\n",
        "plt.hist(chip_data[:,3:4], bins = 50)\r\n",
        "plt.show()\r\n",
        "\r\n",
        "plt.hist(chip_data[:,4:5], bins = 50)\r\n",
        "plt.show()\r\n",
        "\r\n",
        "\r\n",
        "#shuffling of data\r\n",
        "np.random.shuffle(chip_data)\r\n",
        "\r\n",
        "#data spiliting\r\n",
        "\r\n",
        "x_train = chip_data[:m,:-1]\r\n",
        "y_train = chip_data[:m,-1:]\r\n",
        "x_test = chip_data[m:,:-1]\r\n",
        "y_test = chip_data[m:,-1:]\r\n"
      ],
      "execution_count": 433,
      "outputs": [
        {
          "output_type": "stream",
          "text": [
            "\n",
            "Gaussian Distributions\n",
            "\n"
          ],
          "name": "stdout"
        },
        {
          "output_type": "display_data",
          "data": {
            "image/png": "[encoded data removed]",
            "text/plain": [
              "<Figure size 432x288 with 1 Axes>"
            ]
          },
          "metadata": {
            "tags": [],
            "needs_background": "light"
          }
        },
        {
          "output_type": "display_data",
          "data": {
            "image/png": "[encoded data removed]",
            "text/plain": [
              "<Figure size 432x288 with 1 Axes>"
            ]
          },
          "metadata": {
            "tags": [],
            "needs_background": "light"
          }
        },
        {
          "output_type": "display_data",
          "data": {
            "image/png": "[encoded data removed]",
            "text/plain": [
              "<Figure size 432x288 with 1 Axes>"
            ]
          },
          "metadata": {
            "tags": [],
            "needs_background": "light"
          }
        },
        {
          "output_type": "display_data",
          "data": {
            "image/png": "[encoded data removed]",
            "text/plain": [
              "<Figure size 432x288 with 1 Axes>"
            ]
          },
          "metadata": {
            "tags": [],
            "needs_background": "light"
          }
        },
        {
          "output_type": "display_data",
          "data": {
            "image/png": "[encoded data removed]",
            "text/plain": [
              "<Figure size 432x288 with 1 Axes>"
            ]
          },
          "metadata": {
            "tags": [],
            "needs_background": "light"
          }
        }
      ]
    },
    {
      "cell_type": "code",
      "metadata": {
        "id": "EaIJPwhElpGZ"
      },
      "source": [
        "phi = y_train.mean()\r\n",
        "# print(phi)\r\n",
        "\r\n",
        "def mu_0(x_train, y_train):\r\n",
        "\r\n",
        "    m = len(x_train)\r\n",
        "\r\n",
        "    numerator =  [x for x,y in zip(x_train, y_train) if y == 0 ]\r\n",
        "\r\n",
        "    denominator = len(numerator)\r\n",
        "\r\n",
        "    numerator = np.sum(numerator,axis = 0)\r\n",
        "   \r\n",
        "    return (numerator / denominator)\r\n",
        "\r\n",
        "\r\n",
        "mu_0 = mu_0(x_train, y_train)\r\n",
        "# print(mu_0)\r\n",
        "\r\n",
        "\r\n",
        "\r\n",
        "def mu_1(x_train, y_train):\r\n",
        "\r\n",
        "    m = len(x_train)\r\n",
        "\r\n",
        "    numerator =  [x for x,y in zip(x_train, y_train) if y == 1 ]\r\n",
        "\r\n",
        "    denominator = len(numerator)\r\n",
        "\r\n",
        "    numerator = np.sum(numerator,axis = 0)\r\n",
        "\r\n",
        "    return  (numerator / denominator)\r\n",
        "\r\n",
        "\r\n",
        "mu_1 = mu_1(x_train, y_train)\r\n",
        "# print(mu_1)\r\n",
        "\r\n",
        "\r\n",
        "def sigma(x_train, y_train, mu_0, mu_1):\r\n",
        "\r\n",
        "    m = len(x_train)\r\n",
        "    n = len(x_train[0])\r\n",
        "   \r\n",
        "    sigma_sum = []\r\n",
        "\r\n",
        "    for x, y in zip(x_train, y_train):\r\n",
        "\r\n",
        "        temp = []\r\n",
        "\r\n",
        "        if( y == 0):\r\n",
        "\r\n",
        "            temp = (x - mu_0).reshape(n,1)\r\n",
        "            temp = np.matmul(temp, temp.T)\r\n",
        "\r\n",
        "        else:\r\n",
        "\r\n",
        "            temp = (x - mu_1).reshape(n,1)\r\n",
        "            temp = np.matmul(temp, temp.T)\r\n",
        "\r\n",
        "        sigma_sum.append(temp)\r\n",
        "\r\n",
        "    sigma_sum = sum(np.array(sigma_sum))\r\n",
        "    \r\n",
        "    return (1 / m) * (sigma_sum)\r\n",
        "\r\n",
        "sigma = sigma(x_train, y_train, mu_0, mu_1)\r\n",
        "\r\n",
        "# print(sigma)\r\n",
        "\r\n"
      ],
      "execution_count": 434,
      "outputs": []
    },
    {
      "cell_type": "code",
      "metadata": {
        "colab": {
          "base_uri": "https://localhost:8080/"
        },
        "id": "0nXaLr7g4Rei",
        "outputId": "381949bc-7eb0-423c-ec33-06776b53ee17"
      },
      "source": [
        "def GDA(x_data, mu, sigma):\r\n",
        "       \r\n",
        "        n = sigma.shape[0]\r\n",
        "        \r\n",
        "        sigma_determinant = np.linalg.det(sigma)\r\n",
        "        # print(sigma_determinant.shape)\r\n",
        "        sigma_inverse = np.linalg.inv(sigma)\r\n",
        "        # print(sigma_inverse.shape)\r\n",
        "\r\n",
        "        x_minus_mu = (x_data - mu)\r\n",
        "        x_minus_mu = x_minus_mu.reshape(*(x_minus_mu.shape), 1)\r\n",
        "        # print(x_minus_mu.shape)\r\n",
        "\r\n",
        "        t1 =  np.matmul(x_minus_mu.T,sigma_inverse)\r\n",
        "        # print(\"t1 =\" ,t1.shape)\r\n",
        "        t2 = np.matmul(t1,x_minus_mu)\r\n",
        "        # print(\"t2 =\" ,t2.shape)\r\n",
        "\r\n",
        "        temp2 = np.exp(-0.5 * t2)\r\n",
        "        temp1 = (((2 * np.pi) ** (n/2)) * ((np.abs(sigma_determinant))**0.5))\r\n",
        "        # print(temp1)\r\n",
        "        # print(temp2)\r\n",
        "        # Probability Density\r\n",
        "        p = (1.0 / temp1) * temp2\r\n",
        "        p = np.squeeze(p)\r\n",
        "        # print(p)        \r\n",
        "\r\n",
        "        return p\r\n",
        "\r\n",
        "\r\n",
        "predicted = []\r\n",
        "\r\n",
        "\r\n",
        "for x ,y in zip( x_test, y_test):\r\n",
        "\r\n",
        "    n = GDA(x, mu_0, sigma) \r\n",
        "    p = GDA(x, mu_1, sigma) \r\n",
        "\r\n",
        "    if(p >= n):\r\n",
        "        predicted.append(1)\r\n",
        "    else:\r\n",
        "        predicted.append(0)\r\n",
        "\r\n",
        "print(\"Accuracy = \",*sum([ x == y for x,y in zip(y_test,predicted)]) / len(y_test) * 100,\"%\")        \r\n",
        "\r\n"
      ],
      "execution_count": 435,
      "outputs": [
        {
          "output_type": "stream",
          "text": [
            "Accuracy =  77.77777777777779 %\n"
          ],
          "name": "stdout"
        }
      ]
    }
  ]
}