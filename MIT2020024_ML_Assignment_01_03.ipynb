{
  "nbformat": 4,
  "nbformat_minor": 0,
  "metadata": {
    "colab": {
      "name": "MIT2020024_ML_Assignment_01_03.ipynb",
      "provenance": [],
      "collapsed_sections": [],
      "authorship_tag": "ABX9TyOjrZbreb0kIjrvl/NmKhs2",
      "include_colab_link": true
    },
    "kernelspec": {
      "display_name": "Python 3",
      "name": "python3"
    }
  },
  "cells": [
    {
      "cell_type": "markdown",
      "metadata": {
        "id": "view-in-github",
        "colab_type": "text"
      },
      "source": [
        "<a href=\"https://colab.research.google.com/github/pksj/IIITA_2nd_SEM/blob/main/MIT2020024_ML_Assignment_01_03.ipynb\" target=\"_parent\"><img src=\"https://colab.research.google.com/assets/colab-badge.svg\" alt=\"Open In Colab\"/></a>"
      ]
    },
    {
      "cell_type": "markdown",
      "metadata": {
        "id": "KLhxt9dUczvT"
      },
      "source": [
        "**Implement a function run knn that runs K-NN for different values of k\r\n",
        "∈ 1, 3, 5, 7, 9 and plots the classification rate on the validation set (number of\r\n",
        "correctly predicted cases, divided by total number of data points) as a function\r\n",
        "of k. Report the plot in the write-up.** "
      ]
    },
    {
      "cell_type": "code",
      "metadata": {
        "id": "ht7tkYi2y1fR"
      },
      "source": [
        "import numpy as np\r\n",
        "import math\r\n",
        "import matplotlib.pyplot as plt\r\n",
        "\r\n",
        "\r\n",
        "# just to get mnist dataset\r\n",
        "from keras.datasets import mnist\r\n"
      ],
      "execution_count": 5,
      "outputs": []
    },
    {
      "cell_type": "markdown",
      "metadata": {
        "id": "Qn1Tr8qp6maH"
      },
      "source": [
        "Gathering dataset and splitting into training and testing"
      ]
    },
    {
      "cell_type": "code",
      "metadata": {
        "id": "d7L6HJWs34LL"
      },
      "source": [
        "mnist_dataset = mnist.load_data()\r\n",
        "\r\n",
        "\r\n",
        "x_train = mnist_dataset[0][0]\r\n",
        "y_train = mnist_dataset[0][1]\r\n",
        "\r\n",
        "x_test = mnist_dataset[1][0]\r\n",
        "y_test = mnist_dataset[1][1]\r\n",
        "\r\n",
        "#Normalization\r\n",
        "\r\n",
        "x_train = x_train / 255\r\n",
        "y_train = y_train / 9\r\n",
        "\r\n",
        "x_test = x_test / 255\r\n",
        "y_test = y_test / 9\r\n",
        "\r\n",
        "\r\n",
        "x_train = x_train[:10000]\r\n",
        "y_train = y_train[:10000]\r\n",
        "\r\n",
        "x_test = x_test[:100]\r\n",
        "y_test = y_test[:100]\r\n"
      ],
      "execution_count": 12,
      "outputs": []
    },
    {
      "cell_type": "markdown",
      "metadata": {
        "id": "xHPmv4sF60_N"
      },
      "source": [
        "Funciton to find distance between two images"
      ]
    },
    {
      "cell_type": "code",
      "metadata": {
        "id": "eMNvNTEq66s4"
      },
      "source": [
        "def image_distance(image_1, image_2):\r\n",
        "\r\n",
        "    image_shape = image_1.shape\r\n",
        "\r\n",
        "    distance_square = 0.\r\n",
        "\r\n",
        "    for row in range(image_shape[0]):\r\n",
        "        for column in range(image_shape[1]):\r\n",
        "\r\n",
        "            distance_square += (int(image_1[row][column]) - int(image_2[row][column]))**2\r\n",
        "\r\n",
        "    return math.sqrt(distance_square)  \r\n",
        "\r\n"
      ],
      "execution_count": 7,
      "outputs": []
    },
    {
      "cell_type": "markdown",
      "metadata": {
        "id": "uHHQyGLy3gJy"
      },
      "source": [
        "Function max_label\r\n",
        "\r\n",
        "used to find lable with maximum count "
      ]
    },
    {
      "cell_type": "code",
      "metadata": {
        "id": "geGbhEFK3t7Y"
      },
      "source": [
        "def max_label(labels):\r\n",
        "\r\n",
        "    frequency = [0] * 10\r\n",
        "\r\n",
        "    for label in labels:\r\n",
        "        frequency[label] += 1\r\n",
        "\r\n",
        "    max_index = 0\r\n",
        "\r\n",
        "    for i in range(1, 10):\r\n",
        "\r\n",
        "        if(frequency[i] > frequency[max_index]):\r\n",
        "\r\n",
        "            max_index = i\r\n",
        "\r\n",
        "    return max_index                \r\n"
      ],
      "execution_count": 8,
      "outputs": []
    },
    {
      "cell_type": "markdown",
      "metadata": {
        "id": "RpYvKv-C44tI"
      },
      "source": [
        "Function KNN_prediction"
      ]
    },
    {
      "cell_type": "code",
      "metadata": {
        "id": "RzIhgCUN5B7D"
      },
      "source": [
        "def KNN_prediction(k, x_train, y_train, test_image):\r\n",
        "\r\n",
        "    distance_with_labels = []\r\n",
        "\r\n",
        "    for image, label in zip(x_train, y_train):\r\n",
        "\r\n",
        "        ans = image_distance(image, test_image) , label\r\n",
        "        #print(ans)\r\n",
        "        distance_with_labels.append(ans)\r\n",
        "\r\n",
        "    distance_with_labels.sort(key=lambda x:x[0])\r\n",
        "\r\n",
        "    # sorted_distance_with_labels = sorted(distance_with_labels, key=lambda (distance, _): distance)    sorted(distance_with_labels)\r\n",
        "    #print(distance_with_labels)\r\n",
        "    k_neighbors = [label for image, label in distance_with_labels[0:k]]\r\n",
        "\r\n",
        "    return max_label(k_neighbors)\r\n",
        "\r\n"
      ],
      "execution_count": 9,
      "outputs": []
    },
    {
      "cell_type": "markdown",
      "metadata": {
        "id": "mQ3CogEn8zzW"
      },
      "source": [
        "Prediction on test data"
      ]
    },
    {
      "cell_type": "code",
      "metadata": {
        "id": "YcanRc4J83T8",
        "colab": {
          "base_uri": "https://localhost:8080/",
          "height": 279
        },
        "outputId": "ec7378db-a434-452b-8078-3358cf00cede"
      },
      "source": [
        "def run_knn():\r\n",
        "\r\n",
        "    k_values = [1,3,5,7,9]\r\n",
        "    accuracy_per_k = [0] * 5\r\n",
        "\r\n",
        "    for k in k_values:\r\n",
        "        \r\n",
        "        correct_prediction = 0\r\n",
        "\r\n",
        "        for image, label in zip(x_test, y_test):\r\n",
        "\r\n",
        "            if(KNN_prediction(k, x_train, y_train, image) == label):\r\n",
        "\r\n",
        "                correct_prediction += 1\r\n",
        "\r\n",
        "        accuracy_per_k[ k // 2 ] = ( correct_prediction * 100 )/ len(x_test)\r\n",
        "\r\n",
        "    plt.plot(k_values, accuracy_per_k)\r\n",
        "    plt.xlabel(\" K \")\r\n",
        "    plt.ylabel(\"Accuracy\")\r\n",
        "    plt.show()    \r\n",
        "\r\n"
      ],
      "execution_count": 13,
      "outputs": [
        {
          "output_type": "display_data",
          "data": {
            "image/png": "[encoded data removed]",
            "text/plain": [
              "<Figure size 432x288 with 1 Axes>"
            ]
          },
          "metadata": {
            "tags": [],
            "needs_background": "light"
          }
        }
      ]
    }
  ]
}